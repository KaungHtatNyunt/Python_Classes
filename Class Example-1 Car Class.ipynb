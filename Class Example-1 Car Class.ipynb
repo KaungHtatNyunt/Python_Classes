{
 "cells": [
  {
   "cell_type": "markdown",
   "metadata": {},
   "source": [
    "# Class Example-1 Car Class\n",
    "Car class တစ်ခုကို နမူနာအဖြစ် ပြုလုပ်ရင်း class တစ်ခု တည်ဆောက်ပုံအကြောင်း ရှင်းပြသွားပါမည်။ \n",
    "### class အလုပ်လုပ်ပုံ\n",
    "Car class အလုပ်လုပ်ပုံမှာ ကားတစ်စီးကို ဓာတ်ဆီထည့်ပေးလျှင် ကား‌ေရွ့လျားနိုင်သည်။ သို့မဟုတ် တွန်းလျှင်လည်း ကားရွေ့လျားနိုင်သည်။ ကားရွေ့သွားမည့် အကွာအဝေးကို ဖော်ပြပေးရန်ဖြစ်သည်။ ဓာတ်ဆီ (၁)လီတာထည့်လျှင် (၁၂)ကီလိုမီတာ သွားနိုင်သည်။ \n",
    "တစ်ခါတွန်းလျှင် (၀.၁)ကီလိုမီတာ (မီတာ ၁၀၀)သာ သွားနိုင်သည်။ \n",
    "\n",
    "### Class  method \n",
    "ကားသည် နည်း (၂)နည်းဖြင့် ရွေ့သွားမည်ဖြစ်သောကြောင့် method (2) ခုလိုအပ်ပါသည်။ ဆီထည့်ပေး၍ ဆီဖြင့်သွားသည့် method နှင့် တွန်းသည့် method တို့ဖြစ်သည်။ \n",
    "\n",
    "\n",
    "### Car class  တည်ဆောက်ခြင်း\n",
    "```python\n",
    "class Car():\n",
    "```\n",
    "ဖြင့် Car class တစ်ခုတည်ဆောက်သည်။\n",
    "\n",
    "``\"\"\"Simulates a car travelleded distance for a game,\n",
    "          or a physics simulation.\"\"\" `` <br>\n",
    "သည် docstring ဖြစ်သည်။ docstring ဆိုသည်မှာ classနှင့် သက်ဆိုင်သည့် သိသင့်သိထိုက်သည့်အချက်အလက်များကို ဖတ်သူများ class ကို အသုံးပြုသူများ အထောက်အကူပြုစေရန် ရည်ရွယ်ပြီး ရေးသားထားသည့် စာသားများ ဖြစ်သည်။\n",
    "\n",
    "Docstring သည် documentation string ၏ အတိုကောက်ဖြစ်သည်။ Docstring ကို function, method, class, module သည်တို့၏ definition အပြီးတွင် ထည့်သွင်းရေးသားထားလေ့ရှိသည်။ Triple quotes ဖြင့် docstrings များကို ရေးသားထားလေ့ရှိသည်။"
   ]
  },
  {
   "cell_type": "markdown",
   "metadata": {},
   "source": [
    "### ``__init__  method``\n",
    "Car class အတွင်းရှိ object များ ပြုလုပ်ရန်အတွက် __init__ method ဖြင့် စသည်။ \n",
    "Car object တစ်ခု၏ အစဆုံးတည်နေရာကို (x, y)ဖြင့် ဖော်ပြပြီး မူလအမှတ်သည် (0, 0) ဖြစ်သည်။ \n",
    "စစချင်း ကားတည်ရှိနေမည့်နေရာကို print လုပ်သည်။\n",
    "```python\n",
    "    def __init__(self):\n",
    "        # Each car has an (x,y) position.\n",
    "        self.x = 0\n",
    "        self.y = 0\n",
    "        print(\"Car travelled distance:\", self.x)\n",
    "```\n",
    "\n",
    "###  ဆီထည့်မည့် ``fuel_add method``\n",
    "ဓာတ်ဆီထည့်ပေးမည့် method ဖြစ်သည်။ ဓာတ်ဆီ (၁)လီတာထည့်လျှင် (၁၂)ကီလိုမီတာ သွားနိုင်သည်။ \n",
    "ရောက်နေ့သည့်နေရာမှ ဆက်သွားလိမ့်မည်။ \n",
    "ဓာတ်ဆီမည်မျှ ထည့်လိုက်သည်။ ဓာတ်ဆီမည်မျှ ကျန်သေးသည်ကို print ထုတ်သည်။\n",
    "ထည့်ပေးသည့် ဓာတ်ဆီ ပမာဏအတိုင်း ရောက်မည့် နေရာကို တွက်၍ ဖော်ပြသည်။ ရောက်ပြီးသည့်နေရာမှ ဆီပမာဏ ရှိသလောက် ထပ်သွားသည်။ \n",
    "\n",
    "```python\n",
    "    def fuel_add(self, liters):\n",
    "        self.liters = liters\n",
    "        print(f'\\nYou have topped up {liters} liters')\n",
    "        print(f'Fuel {liters} liters left\\n')\n",
    "        self.x += self.liters * 12\n",
    "        print(\"Car travelled distance:\", self.x,\"meter\")\n",
    "```"
   ]
  },
  {
   "cell_type": "markdown",
   "metadata": {},
   "source": [
    "###  ကားတွန်းမည့် ``push_up method``\n",
    "ဆီကုန်သွား၍ ကားရွေ့စေလိုလျှင် ကားကို တွန်း၍ ‌ေရွ့နိုင်သည်။ \n",
    "တစ်ခါတွန်းလျှင် (၀.၁)ကီလိုမီတာ (မီတာ ၁၀၀)သာ သွားနိုင်သည်။ \n",
    "တွန်းပြီး၍ ရောက်သည့်နေရာကို ဖော်ပြရန် print ထုတ်သည်။ \n",
    "```python\n",
    "    def push_up(self):\n",
    "        # Increment the x-position of the car.\n",
    "        self.x += 0.1\n",
    "        print(\"Car travelled distance:\", self.x, \"meter\")\n",
    "```     \n",
    "အောက်တွင် code အပြည့်အစုံကို ဖော်ပြထားသည်။"
   ]
  },
  {
   "cell_type": "code",
   "execution_count": 1,
   "metadata": {},
   "outputs": [
    {
     "name": "stdout",
     "output_type": "stream",
     "text": [
      "Car travelled distance: 0\n",
      "\n",
      "You have topped up 3 liters\n",
      "Fuel 3 liters left\n",
      "\n",
      "Car travelled distance: 36 meter\n",
      "Car travelled distance: 36.1 meter\n",
      "Car travelled distance: 36.2 meter\n"
     ]
    }
   ],
   "source": [
    "class Car():\n",
    "    \"\"\"(ဓာတ်ဆီ (၁)လီတာထည့်လျှင် (၁၂)ကီလိုမီတာ သွားနိုင်သည်။ \n",
    "        တစ်ခါတွန်းလျှင် (၀.၁)ကီလိုမီတာ (မီတာ ၁၀၀)သာ သွားနိုင်သည်။)\n",
    "        Simulates a car travelledled distance for a game,\n",
    "        or a physics simulation.\"\"\"\n",
    "    \n",
    "    def __init__(self):\n",
    "        # Each car has an (x,y) position.\n",
    "        self.x = 0\n",
    "        self.y = 0\n",
    "        print(\"Car travelled distance:\", self.x)\n",
    "            \n",
    "    def fuel_add(self, liters):\n",
    "        # Top up fuel\n",
    "        self.liters = liters\n",
    "        print(f'\\nYou have topped up {liters} liters')\n",
    "        print(f'Fuel {liters} liters left\\n')\n",
    "        self.x += self.liters * 12\n",
    "        print(\"Car travelled distance:\", self.x,\"meter\")\n",
    "               \n",
    "    def push_up(self):\n",
    "        # Increment the x-position of the car.\n",
    "        self.x += 0.1\n",
    "        print(f\"Car travelled distance: {self.x:.1f} meter\")\n",
    "    \n",
    "\n",
    "# Create a Car object\n",
    "my_car = Car()\n",
    "\n",
    "# ဆီ (၃) လီတာ ထည့်သည်။\n",
    "my_car.fuel_add(3)\n",
    "\n",
    "# တစ်ခါ တွန်းသည်။ \n",
    "my_car.push_up()\n",
    "\n",
    "# တစ်ခါ တွန်းသည်။ \n",
    "my_car.push_up()"
   ]
  },
  {
   "cell_type": "code",
   "execution_count": 2,
   "metadata": {},
   "outputs": [
    {
     "name": "stdout",
     "output_type": "stream",
     "text": [
      "\n",
      "You have topped up 2 liters\n",
      "Fuel 2 liters left\n",
      "\n",
      "Car travelled distance: 60.2 meter\n"
     ]
    }
   ],
   "source": [
    "# ဆီ (၂) လီတာ ထည့်သည်။\n",
    "my_car.fuel_add(2)"
   ]
  },
  {
   "cell_type": "code",
   "execution_count": 3,
   "metadata": {},
   "outputs": [
    {
     "name": "stdout",
     "output_type": "stream",
     "text": [
      "Car travelled distance: 60.3 meter\n"
     ]
    }
   ],
   "source": [
    "# တစ်ခါ တွန်းသည်။ \n",
    "my_car.push_up()"
   ]
  },
  {
   "cell_type": "code",
   "execution_count": 4,
   "metadata": {},
   "outputs": [
    {
     "name": "stdout",
     "output_type": "stream",
     "text": [
      "Car travelled distance: 60.4 meter\n"
     ]
    }
   ],
   "source": [
    "# တစ်ခါ တွန်းသည်။ \n",
    "my_car.push_up()"
   ]
  },
  {
   "cell_type": "markdown",
   "metadata": {},
   "source": [
    "ကားသည် စထွက်သည့်အချိန်မှာ စ၍ ရောက်သည့် နေရာမှ စ၍ သုံးသည့် method ကို လိုက်၍ ရွေ့သွားသည့် travelled distance ကို ထည့်ပေါင်းသည်။"
   ]
  },
  {
   "cell_type": "code",
   "execution_count": 5,
   "metadata": {
    "scrolled": true
   },
   "outputs": [
    {
     "name": "stdout",
     "output_type": "stream",
     "text": [
      "Help on class Car in module __main__:\n",
      "\n",
      "class Car(builtins.object)\n",
      " |  (ဓာတ်ဆီ (၁)လီတာထည့်လျှင် (၁၂)ကီလိုမီတာ သွားနိုင်သည်။ \n",
      " |  တစ်ခါတွန်းလျှင် (၀.၁)ကီလိုမီတာ (မီတာ ၁၀၀)သာ သွားနိုင်သည်။)\n",
      " |  Simulates a car travelledled distance for a game,\n",
      " |  or a physics simulation.\n",
      " |  \n",
      " |  Methods defined here:\n",
      " |  \n",
      " |  __init__(self)\n",
      " |      Initialize self.  See help(type(self)) for accurate signature.\n",
      " |  \n",
      " |  fuel_add(self, liters)\n",
      " |  \n",
      " |  push_up(self)\n",
      " |  \n",
      " |  ----------------------------------------------------------------------\n",
      " |  Data descriptors defined here:\n",
      " |  \n",
      " |  __dict__\n",
      " |      dictionary for instance variables (if defined)\n",
      " |  \n",
      " |  __weakref__\n",
      " |      list of weak references to the object (if defined)\n",
      "\n"
     ]
    }
   ],
   "source": [
    "# မိမိ ရေးခဲ့သည့် Car class ကို help() ဖြင့် ဖတ်ကြည့်ရန်\n",
    "\n",
    "help(Car)"
   ]
  },
  {
   "cell_type": "markdown",
   "metadata": {},
   "source": [
    "-End- Kaung Htat Nyunt"
   ]
  },
  {
   "cell_type": "code",
   "execution_count": null,
   "metadata": {},
   "outputs": [],
   "source": []
  }
 ],
 "metadata": {
  "kernelspec": {
   "display_name": "Python 3",
   "language": "python",
   "name": "python3"
  },
  "language_info": {
   "codemirror_mode": {
    "name": "ipython",
    "version": 3
   },
   "file_extension": ".py",
   "mimetype": "text/x-python",
   "name": "python",
   "nbconvert_exporter": "python",
   "pygments_lexer": "ipython3",
   "version": "3.7.6"
  }
 },
 "nbformat": 4,
 "nbformat_minor": 4
}
